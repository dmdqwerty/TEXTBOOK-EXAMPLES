{
 "cells": [
  {
   "cell_type": "code",
   "execution_count": 1,
   "id": "a3f6280b",
   "metadata": {},
   "outputs": [
    {
     "name": "stderr",
     "output_type": "stream",
     "text": [
      "c:\\Users\\Денис\\AppData\\Local\\Programs\\Python\\Python312\\Lib\\site-packages\\tqdm\\auto.py:21: TqdmWarning: IProgress not found. Please update jupyter and ipywidgets. See https://ipywidgets.readthedocs.io/en/stable/user_install.html\n",
      "  from .autonotebook import tqdm as notebook_tqdm\n"
     ]
    }
   ],
   "source": [
    "import os                                                                         # импортируем часть библиотеки для взаимодействия с данными на\n",
    "                                                                                  # компьютере и для доступа к окружению, где запущен notebook\n",
    "from random import sample                                                         # random - часть библиотеки, которая отвечает за случайные числа\n",
    "\n",
    "import numpy as np                                                                # библиотека для работы с векторами и матрицами\n",
    "\n",
    "import torch                                                                      # тут все нейронные сети\n",
    "import torch.nn as nn                                                             # тут все блоки нейронных сетей, слои\n",
    "import torch.nn.functional as F                                                   # функции, которые нам пригодятся\n",
    "\n",
    "import matplotlib.pyplot as plt                                                   # для построения графиков\n",
    "from IPython.display import clear_output   \n",
    "\n",
    "from sklearn.model_selection import train_test_split                            # для разделения данных на обучающую и тестовую выборки\n",
    "\n",
    "from datasets import load_dataset"
   ]
  },
  {
   "cell_type": "code",
   "execution_count": 2,
   "id": "baaf092f",
   "metadata": {},
   "outputs": [],
   "source": [
    "dataset = load_dataset(\"agentlans/high-quality-english-sentences\")"
   ]
  },
  {
   "cell_type": "code",
   "execution_count": 5,
   "id": "bc2fba1c",
   "metadata": {},
   "outputs": [
    {
     "name": "stdout",
     "output_type": "stream",
     "text": [
      "Валідаційна вибірка: 51156 прикладів, Тестова: 119366 прикладів\n",
      "Soon we dropped into a living forest, where cold-tolerant evergreens and boreal animals still evoke the Canadian heritage of an ecosystem pushed south by glaciers 20,000 years ago.\n"
     ]
    }
   ],
   "source": [
    "train_ds = dataset[\"train\"][:][\"text\"]\n",
    "\n",
    "\n",
    "test_ds = dataset[\"test\"][:][\"text\"]\n",
    "\n",
    "\n",
    "val_ds, test_ds = train_test_split(test_ds, test_size=0.7, random_state=42)\n",
    "\n",
    "print(f\"Валідаційна вибірка: {len(val_ds)} прикладів, Тестова: {len(test_ds)} прикладів\")\n",
    "print(train_ds[0])"
   ]
  },
  {
   "cell_type": "code",
   "execution_count": 3,
   "id": "8437dcf8",
   "metadata": {},
   "outputs": [
    {
     "name": "stdout",
     "output_type": "stream",
     "text": [
      "['Hello', 'world', '!', 'This', 'is', 'a', 'test', 'sentence', '.']\n",
      "['Hello', 'world', 'This', 'is', 'a', 'test', 'sentence']\n"
     ]
    }
   ],
   "source": [
    "from nltk.tokenize import WordPunctTokenizer\n",
    "\n",
    "tokenizer = WordPunctTokenizer()\n",
    "\n",
    "print(tokenizer.tokenize(\"Hello world! This is a test sentence.\"))\n",
    "print([word for word in tokenizer.tokenize(\"Hello world! This is a test sentence.\") if word.isalpha()])"
   ]
  },
  {
   "cell_type": "code",
   "execution_count": 6,
   "id": "f041dfc2",
   "metadata": {},
   "outputs": [
    {
     "name": "stdout",
     "output_type": "stream",
     "text": [
      "['soon', 'we', 'dropped', 'into', 'a', 'living', 'forest', 'where', 'cold', 'tolerant', 'evergreens', 'and', 'boreal', 'animals', 'still', 'evoke', 'the', 'canadian', 'heritage', 'of', 'an', 'ecosystem', 'pushed', 'south', 'by', 'glaciers', 'years', 'ago']\n"
     ]
    }
   ],
   "source": [
    "def my_tokenize(sentence):\n",
    "    return [token for token in tokenizer.tokenize(sentence.rstrip().lower()) if token.isalpha()]\n",
    "\n",
    "print(my_tokenize(train_ds[0]))"
   ]
  },
  {
   "cell_type": "code",
   "execution_count": 7,
   "id": "68d60bf4",
   "metadata": {},
   "outputs": [],
   "source": [
    "from collections import Counter\n",
    "\n",
    "def build_vocab(sentences, min_freq=10):\n",
    "    word_counter = Counter()\n",
    "\n",
    "    for sentence in sentences:\n",
    "        tokenized_sentence = my_tokenize(sentence)\n",
    "        for word_punkt in tokenized_sentence:\n",
    "            word_counter[word_punkt] += 1\n",
    "\n",
    "    vocab = set(['<unk>', '<bos>', '<eos>', '<pad>'])\n",
    "\n",
    "    for char, cnt in word_counter.items():\n",
    "        if cnt > min_freq:\n",
    "            vocab.add(char)\n",
    "    \n",
    "    return vocab"
   ]
  },
  {
   "cell_type": "code",
   "execution_count": 8,
   "id": "a1d7145f",
   "metadata": {},
   "outputs": [
    {
     "name": "stdout",
     "output_type": "stream",
     "text": [
      "Кількість слів у словнику:  32414\n"
     ]
    }
   ],
   "source": [
    "vocab = build_vocab(train_ds, min_freq=25)\n",
    "\n",
    "print(\"Кількість слів у словнику: \", len(vocab))"
   ]
  },
  {
   "cell_type": "code",
   "execution_count": 9,
   "id": "3568a3a4",
   "metadata": {},
   "outputs": [],
   "source": [
    "word2ind = {token: i for i, token in enumerate(vocab)}\n",
    "ind2word = {i: token for token, i in word2ind.items()}"
   ]
  },
  {
   "cell_type": "markdown",
   "id": "e1255727",
   "metadata": {},
   "source": [
    "Гістограма розподілу довжин речень."
   ]
  },
  {
   "cell_type": "code",
   "execution_count": 210,
   "id": "2c57970a",
   "metadata": {},
   "outputs": [
    {
     "data": {
      "image/png": "[encoded data removed]",
      "text/plain": [
       "<Figure size 640x480 with 1 Axes>"
      ]
     },
     "metadata": {},
     "output_type": "display_data"
    }
   ],
   "source": [
    "plt.hist([len(my_tokenize(x)) for x in train_ds], bins=100);"
   ]
  },
  {
   "cell_type": "code",
   "execution_count": 10,
   "id": "6d3e5fd5",
   "metadata": {},
   "outputs": [],
   "source": [
    "def collate_fn(input_batch, max_len=50):\n",
    "    \"\"\"\n",
    "    params: input_batch - a list of tokenized strings\n",
    "    \"\"\"\n",
    "    seq_lens = [len(x) for x in input_batch]\n",
    "    max_seq_len = min(max(seq_lens) + 2, max_len) # +2 for <bos> and <eos>\n",
    "\n",
    "    processed_texts = []\n",
    "\n",
    "    for tokens_lst in input_batch:\n",
    "        tokens_lst = tokens_lst[:max_seq_len - 2]\n",
    "\n",
    "        indexed = [word2ind['<bos>']]\n",
    "        indexed += [word2ind[x] if x in vocab else word2ind['<unk>'] for x in tokens_lst]\n",
    "        indexed += [word2ind['<eos>']]\n",
    "\n",
    "        for _ in range(max_seq_len - len(indexed)):\n",
    "            indexed += [word2ind['<pad>']]\n",
    "            \n",
    "        processed_texts.append(indexed)\n",
    "\n",
    "    return torch.LongTensor(processed_texts)"
   ]
  },
  {
   "cell_type": "code",
   "execution_count": 11,
   "id": "de60022f",
   "metadata": {},
   "outputs": [],
   "source": [
    "train_ds_tokenized = [my_tokenize(sentence=sent) for sent in train_ds]"
   ]
  },
  {
   "cell_type": "code",
   "execution_count": 213,
   "id": "c5f3189a",
   "metadata": {},
   "outputs": [
    {
     "name": "stdout",
     "output_type": "stream",
     "text": [
      "tensor([[ 2129, 30634,  3496,  2476, 19289, 13438, 28416,  7405, 29183,  6204,\n",
      "         18220, 11921, 22840, 26913, 29460, 21609, 31833, 11881, 17694, 14180,\n",
      "         19600, 31727, 30286, 16326, 24244,  4020,  9954,  9481, 16634,   103],\n",
      "        [ 2129, 30172,  7147, 17403, 22039,  1133, 18829, 16940,   135,   103,\n",
      "         14543, 14543, 14543, 14543, 14543, 14543, 14543, 14543, 14543, 14543,\n",
      "         14543, 14543, 14543, 14543, 14543, 14543, 14543, 14543, 14543, 14543],\n",
      "        [ 2129,  5652, 18701, 13051, 14840, 11881, 10166, 21137, 19600,   135,\n",
      "          2697, 11881, 17915, 32271, 11881,  4518, 22840, 10702, 26208, 21609,\n",
      "          3308,  5652, 25181, 31253,   103, 14543, 14543, 14543, 14543, 14543]])\n"
     ]
    }
   ],
   "source": [
    "print(collate_fn(train_ds_tokenized[:3]))"
   ]
  },
  {
   "cell_type": "code",
   "execution_count": 12,
   "id": "2e6b9f5d",
   "metadata": {},
   "outputs": [],
   "source": [
    "class WordRNNLoop(nn.Module):\n",
    "\n",
    "    def __init__(self, num_of_tokens=len(vocab), emb_size=256, rnn_num_units=512):\n",
    "        super().__init__()\n",
    "        self.emb = nn.Embedding(num_of_tokens, emb_size, padding_idx=14543)\n",
    "\n",
    "        self.lstm = nn.LSTM(\n",
    "            input_size=emb_size,\n",
    "            hidden_size=rnn_num_units,\n",
    "            num_layers=2,\n",
    "            dropout=0,\n",
    "            batch_first=True\n",
    "        )\n",
    "\n",
    "        # self.rnn = nn.RNN(emb_size, rnn_num_units, batch_first=True)\n",
    "        self.hid_to_logits = nn.Linear(rnn_num_units, num_of_tokens)\n",
    "\n",
    "    def forward(self, x):\n",
    "        h_seq, hidden = self.lstm(self.emb(x))\n",
    "        next_logits = self.hid_to_logits(h_seq)\n",
    "        return next_logits\n"
   ]
  },
  {
   "cell_type": "code",
   "execution_count": 229,
   "id": "52ec8590",
   "metadata": {},
   "outputs": [],
   "source": [
    "model = WordRNNLoop()\n",
    "opt = torch.optim.Adam(model.parameters())\n",
    "criterion = nn.CrossEntropyLoss()"
   ]
  },
  {
   "cell_type": "code",
   "execution_count": 233,
   "id": "68c5dfed",
   "metadata": {},
   "outputs": [
    {
     "data": {
      "image/png": "[encoded data removed]",
      "text/plain": [
       "<Figure size 640x480 with 1 Axes>"
      ]
     },
     "metadata": {},
     "output_type": "display_data"
    }
   ],
   "source": [
    "history = []\n",
    "\n",
    "for epoch in range(1000):\n",
    "    print(\"epoch: \", epoch)\n",
    "\n",
    "    batch_ix = collate_fn(sample(train_ds_tokenized, 256))\n",
    "    batch_ix = torch.LongTensor(batch_ix)\n",
    "\n",
    "    logits = model(batch_ix)\n",
    "\n",
    "    predictions_logp = F.log_softmax(logits[:, :-1], dim=-1)\n",
    "    actual_next_tokens = batch_ix[:, 1:]\n",
    "\n",
    "    loss = criterion(\n",
    "        predictions_logp.contiguous().view(-1, len(vocab)),\n",
    "        actual_next_tokens.contiguous().view(-1)\n",
    "    )\n",
    "\n",
    "    # Обучение методов backprop\n",
    "    loss.backward()                                                               # посчитали градиенты\n",
    "    opt.step()\n",
    "    opt.zero_grad()\n",
    "\n",
    "    # код отрисовки графика\n",
    "    history.append(loss.item())\n",
    "    if (epoch+1)%100==0:                                                              # на каждом сотом шаге обновляем график\n",
    "        clear_output(True)\n",
    "        plt.plot(history,label='loss')\n",
    "        plt.legend()\n",
    "        plt.show()\n",
    "\n",
    "assert np.mean(history[:10]) > np.mean(history[-10:]), \"RNN didn't converge.\"\n"
   ]
  },
  {
   "cell_type": "code",
   "execution_count": 15,
   "id": "44b06088",
   "metadata": {},
   "outputs": [],
   "source": [
    "def generate_sample(model, seed_phrase=[' '], max_length=50, temperature=1.0):\n",
    "    '''\n",
    "    The function generates text given a phrase of length at least SEQ_LENGTH.\n",
    "    :param seed_phrase: prefix characters. The RNN is asked to continue the phrase\n",
    "    :param max_length: maximum output length, including seed_phrase\n",
    "    :param temperature: coefficient for sampling.  higher temperature produces more chaotic outputs,\n",
    "                        smaller temperature converges to the single most likely output\n",
    "    '''\n",
    "\n",
    "    x_sequence = [word2ind[token] for token in seed_phrase]                    # преобразуем seed_phrase в последовательность индексов токенов\n",
    "    x_sequence = torch.tensor([x_sequence], dtype=torch.int64)\n",
    "\n",
    "    #start generating\n",
    "    for _ in range(max_length - len(seed_phrase)):\n",
    "        logits = model(x_sequence)                                                # новое скрытое состояние и логит для след токена - это\n",
    "                                                                                  # последний элемент последовательности и текущее скрытое состояние\n",
    "        p_next = F.softmax(logits / temperature, dim=-1).data.numpy()[0][-1]      # считаем вероятность: softmax от текущих логитов\n",
    "                                                                                  # temperature отвечает за случайность (гиперпараметр)\n",
    "\n",
    "        # sample next token and push it back into x_sequence\n",
    "        next_ix = np.random.choice(len(vocab), p=p_next)                           # из всех токенов с распределением p_next\n",
    "        next_ix = torch.tensor([[next_ix]], dtype=torch.int64)\n",
    "        x_sequence = torch.cat([x_sequence, next_ix], dim=1)                      # добавляем к последовательности\n",
    "\n",
    "    return ' '.join([ind2word[ix] for ix in x_sequence.data.numpy()[0]])             # возвращаем все, сконкатенировав через пустую строку"
   ]
  },
  {
   "cell_type": "code",
   "execution_count": 258,
   "id": "bfa30d27",
   "metadata": {},
   "outputs": [
    {
     "name": "stdout",
     "output_type": "stream",
     "text": [
      "soon we dropped into a living forest which would be able to the global portion of the personal action of a atmosphere <eos> <pad> <pad> <pad> <pad> <pad> <pad> <pad> <pad> <pad> <pad> <pad> <pad> <pad> <pad> <pad> <pad> <pad> <pad> <pad> <pad> <pad> <pad> <pad> <pad> <pad> <pad> <pad>\n",
      "soon we dropped into a living forest planet in the first republican period of the profit body <eos> <pad> <pad> <pad> <pad> <pad> <pad> <pad> <pad> <pad> <pad> <pad> <pad> <pad> <pad> <pad> <pad> <pad> <pad> <pad> <pad> <pad> <pad> <pad> <pad> <pad> <pad> <pad> <pad> <pad> <pad> <pad> <pad>\n",
      "soon we dropped into a living forest <eos> <pad> <pad> <pad> <pad> <pad> <pad> <pad> <pad> <pad> <pad> <pad> <pad> <pad> <pad> <pad> <pad> <pad> <pad> <pad> <pad> <pad> <pad> <pad> <pad> <pad> <pad> <pad> <pad> <pad> <pad> <pad> <pad> <pad> <pad> <pad> <pad> <pad> <pad> <pad> <pad> <pad> <pad>\n",
      "soon we dropped into a living forest of a unique number of the surprise and the department of a world <eos> <pad> <pad> <pad> <pad> <pad> <pad> <pad> <pad> <pad> <pad> <pad> <pad> <pad> <pad> <pad> <pad> <pad> <pad> <pad> <pad> <pad> <pad> <pad> <pad> <pad> <pad> <pad> <pad> <pad>\n",
      "soon we dropped into a living forest of recognition of men <eos> <pad> <pad> <pad> <pad> <pad> <pad> <pad> <pad> <pad> <pad> <pad> <pad> <pad> <pad> <pad> <pad> <pad> <pad> <pad> <pad> <pad> <pad> <pad> <pad> <pad> <pad> <pad> <pad> <pad> <pad> <pad> <pad> <pad> <pad> <pad> <pad> <pad> <pad>\n",
      "soon we dropped into a living forest or teaching or understanding of the americans <eos> <pad> <pad> <pad> <pad> <pad> <pad> <pad> <pad> <pad> <pad> <pad> <pad> <pad> <pad> <pad> <pad> <pad> <pad> <pad> <pad> <pad> <pad> <pad> <pad> <pad> <pad> <pad> <pad> <pad> <pad> <pad> <pad> <pad> <pad> <pad>\n",
      "soon we dropped into a living forest projects and absorbing red to provide such and resources sessions through high health and community <eos> <pad> <pad> <pad> <pad> <pad> <pad> <pad> <pad> <pad> <pad> <pad> <pad> <pad> <pad> <pad> <pad> <pad> <pad> <pad> <pad> <pad> <pad> <pad> <pad> <pad> <pad> <pad>\n",
      "soon we dropped into a living forest calling in the governor of the federal death of the tumor <eos> <pad> <pad> <pad> <pad> <pad> <pad> <pad> <pad> <pad> <pad> <pad> <pad> <pad> <pad> <pad> <pad> <pad> <pad> <pad> <pad> <pad> <pad> <pad> <pad> <pad> <pad> <pad> <pad> <pad> <pad> <pad>\n",
      "soon we dropped into a living forest <eos> <pad> <pad> <pad> <pad> <pad> <pad> <pad> <pad> <pad> <pad> <pad> <pad> <pad> <pad> <pad> <pad> <pad> <pad> <pad> <pad> <pad> <pad> <pad> <pad> <pad> <pad> <pad> <pad> <pad> <pad> <pad> <pad> <pad> <pad> <pad> <pad> <pad> <pad> <pad> <pad> <pad> <pad>\n",
      "soon we dropped into a living forest of the history of every patient s mold and over the indian teachers of the state in <unk> <eos> <pad> <pad> <pad> <pad> <pad> <pad> <pad> <pad> <pad> <pad> <pad> <pad> <pad> <pad> <pad> <pad> <pad> <pad> <pad> <pad> <pad> <pad> <pad> <pad>\n"
     ]
    }
   ],
   "source": [
    "for _ in range(10):\n",
    "    print(generate_sample(model, seed_phrase=my_tokenize(\"Soon we dropped into a living forest\"), temperature=0.8))"
   ]
  }
 ],
 "metadata": {
  "kernelspec": {
   "display_name": "Python 3",
   "language": "python",
   "name": "python3"
  },
  "language_info": {
   "codemirror_mode": {
    "name": "ipython",
    "version": 3
   },
   "file_extension": ".py",
   "mimetype": "text/x-python",
   "name": "python",
   "nbconvert_exporter": "python",
   "pygments_lexer": "ipython3",
   "version": "3.12.6"
  }
 },
 "nbformat": 4,
 "nbformat_minor": 5
}
